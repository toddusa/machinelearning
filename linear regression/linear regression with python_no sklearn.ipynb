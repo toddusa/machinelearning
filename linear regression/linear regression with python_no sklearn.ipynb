{
 "cells": [
  {
   "cell_type": "code",
   "execution_count": 27,
   "metadata": {},
   "outputs": [],
   "source": [
    "import numpy as np\n",
    "import matplotlib.pyplot as plt\n",
    "import pandas as pd\n",
    "#importing libraries\n",
    "\n",
    "# Pandas: Powerful data structures for data analysis, time series, and statistics. Home-page: http://pandas.pydata.org"
   ]
  },
  {
   "cell_type": "code",
   "execution_count": 28,
   "metadata": {},
   "outputs": [
    {
     "name": "stdout",
     "output_type": "stream",
     "text": [
      "(30, 1)\n",
      "(30, 1)\n"
     ]
    }
   ],
   "source": [
    "datasets = pd.read_csv('Salary_Data.csv')\n",
    "\n",
    "X = datasets.iloc[:, :-1].values\n",
    "Y = datasets.iloc[:, 1].values\n",
    "Y= np.reshape(Y,(30,1))\n",
    "\n",
    "print (X.shape)\n",
    "\n",
    "print (Y.shape)\n"
   ]
  },
  {
   "cell_type": "code",
   "execution_count": 29,
   "metadata": {},
   "outputs": [
    {
     "name": "stdout",
     "output_type": "stream",
     "text": [
      "(20, 1) (10, 1) (20, 1) (10, 1)\n"
     ]
    }
   ],
   "source": [
    "# Splitting the dataset into the Training set and Test set\n",
    "\n",
    "X_train = X[0:20]\n",
    "X_test = X[20:]\n",
    "Y_train = Y[0: 20]\n",
    "Y_test = Y[20:]\n",
    "print (X_train.shape, X_test.shape, Y_train.shape, Y_test.shape)\n"
   ]
  },
  {
   "cell_type": "code",
   "execution_count": 30,
   "metadata": {},
   "outputs": [
    {
     "name": "stdout",
     "output_type": "stream",
     "text": [
      "(1, 1) (1,)\n"
     ]
    }
   ],
   "source": [
    "# 임의의 1차함수 정의 y=Wx+b\n",
    "\n",
    "W= np.random.rand (1,1)\n",
    "b= np.random.rand (1)\n",
    "\n",
    "print(W.shape, b.shape)\n"
   ]
  },
  {
   "cell_type": "code",
   "execution_count": 31,
   "metadata": {},
   "outputs": [],
   "source": [
    "#손실함수 E(W,b) 정의 x=input값 t= input 의 정답값\n",
    "def loss_func(x,t):\n",
    "    y=np.dot(x,W)+b   #dot product\n",
    "    \n",
    "    return (np.sum((t-y)**2))/(len(x))\n",
    "    "
   ]
  },
  {
   "cell_type": "code",
   "execution_count": 32,
   "metadata": {},
   "outputs": [],
   "source": [
    "#f라는 함수를 x라는 변수에 관하여 편미분 하는 function. x는 numpy 객체이어야함\n",
    "\n",
    "def numerical_derivative(f,x):\n",
    "    delta_x= 1e-4\n",
    "    grad= np.zeros_like(x)\n",
    "        \n",
    "    #print ('debug 1. initial input variable =', x)\n",
    "    #print ('debug 2. initial grad =', grad)\n",
    "    #print ('====================================')\n",
    "        \n",
    "    it= np.nditer(x, flags=['multi_index'], op_flags=['readwrite'])  \n",
    "    \n",
    "    # np.nditer:  Efficient multi-dimensional iterator object to iterate over arrays.\n",
    "    # parameters ==================================================================================================\n",
    "    # flags : sequence of str, optional\n",
    "    # multi_index causes a multi-index, or a tuple of indices with one per iteration dimension, to be tracked.\n",
    "    # op_flags :list of list of str, optional\n",
    "    # readwrite indicates the operand will be read from and written to.\n",
    "    \n",
    "    \n",
    "    while not it.finished:\n",
    "        index= it.multi_index\n",
    "        \n",
    "        #print( 'debug 3. index =', index, 'x[index] =' , x[index])\n",
    "        \n",
    "        temp_val= x[index]\n",
    "                  \n",
    "        x[index]= float(temp_val) + delta_x    \n",
    "         \n",
    "        fx1= f(x)\n",
    "        \n",
    "        #print (f(x))\n",
    "                \n",
    "        x[index]= float(temp_val) - delta_x      \n",
    "        \n",
    "        fx2= f(x)\n",
    "        \n",
    "        #print(f(x))\n",
    "        #print (fx1-fx2)\n",
    "       \n",
    "        \n",
    "        grad[index]= (fx1-fx2)/(2*delta_x)\n",
    "        \n",
    "        #print ('debug 4. grad[index] =', grad[index])\n",
    "        #print ('debug 5. grad =', grad)\n",
    "        #print ('====================================')\n",
    "        \n",
    "        \n",
    "        x[index]=temp_val\n",
    "        \n",
    "        it.iternext()\n",
    "        \n",
    "    return grad\n",
    "        \n",
    "              \n",
    "        \n",
    "    "
   ]
  },
  {
   "cell_type": "code",
   "execution_count": 33,
   "metadata": {},
   "outputs": [
    {
     "data": {
      "text/plain": [
       "array([[ 5., 13.],\n",
       "       [32., 15.]])"
      ]
     },
     "execution_count": 33,
     "metadata": {},
     "output_type": "execute_result"
    }
   ],
   "source": [
    "# numerical_derivative 함수 예제\n",
    "\n",
    "def func1(input_obj):\n",
    "    \n",
    "    w=input_obj[0,0]\n",
    "    x=input_obj[0,1]\n",
    "    y=input_obj[1,0]\n",
    "    z=input_obj[1,1]\n",
    "    \n",
    "    return (w*x + x*y*z + 3*w + z* np.power(y,2))\n",
    "            \n",
    "input = np.array([[1.0,2.0], [3.0,4.0]])\n",
    "\n",
    "numerical_derivative(func1, input)\n"
   ]
  },
  {
   "cell_type": "code",
   "execution_count": 34,
   "metadata": {},
   "outputs": [
    {
     "data": {
      "text/plain": [
       "20"
      ]
     },
     "execution_count": 34,
     "metadata": {},
     "output_type": "execute_result"
    }
   ],
   "source": [
    "# 유틸리티 함수들\n",
    "\n",
    "def error_value(x,t):\n",
    "    y=np.dot(x,W)+b   #dot product\n",
    "    \n",
    "    return (np.sum((t-y)**2))/(len(x))\n",
    "\n",
    "\n",
    "#학습을 마친후 임의의 데이터에 대한 미래값 예측\n",
    "\n",
    "def predict(x):\n",
    "    predicted_value= np.dot(x,W)+b\n",
    "    \n",
    "    return predicted_value\n",
    "\n",
    "len(X_train)"
   ]
  },
  {
   "cell_type": "code",
   "execution_count": 35,
   "metadata": {},
   "outputs": [
    {
     "name": "stdout",
     "output_type": "stream",
     "text": [
      "initial error value = 3723789712.414975 initial W= [[0.03107249]] initial b= [0.18227028]\n",
      "step = 0 error_value = 3700969744.0415664 Weight = [[46.34872496]] Bias = [12.00980567]\n",
      "step = 400 error_value = 393026974.1859148 Weight = [[10511.0511057]] Bias = [2792.98296328]\n",
      "step = 800 error_value = 128952744.79566908 Weight = [[13419.50648313]] Bias = [3744.95992679]\n",
      "step = 1200 error_value = 106663257.2043471 Weight = [[14198.82676925]] Bias = [4179.73958245]\n",
      "step = 1600 error_value = 103603026.50108862 Weight = [[14378.51544457]] Bias = [4467.0404875]\n",
      "step = 2000 error_value = 102096074.4643005 Weight = [[14389.62392179]] Bias = [4711.07713428]\n",
      "step = 2400 error_value = 100738304.39865473 Weight = [[14353.62996567]] Bias = [4941.23755787]\n",
      "step = 2800 error_value = 99417769.35619305 Weight = [[14304.76510518]] Bias = [5165.82148009]\n",
      "step = 3200 error_value = 98125085.8971855 Weight = [[14252.67254836]] Bias = [5387.1851835]\n",
      "step = 3600 error_value = 96859005.6957936 Weight = [[14200.06588832]] Bias = [5606.00974866]\n",
      "step = 4000 error_value = 95618930.96431422 Weight = [[14147.70580674]] Bias = [5822.50396438]\n",
      "step = 4400 error_value = 94404324.17162685 Weight = [[14095.80264333]] Bias = [6036.7433406]\n",
      "step = 4800 error_value = 93214662.1787425 Weight = [[14044.41167888]] Bias = [6248.76565318]\n",
      "step = 5200 error_value = 92049432.72442548 Weight = [[13993.54453505]] Bias = [6458.59787392]\n",
      "step = 5600 error_value = 90908134.04637116 Weight = [[13943.20057029]] Bias = [6666.26376044]\n",
      "step = 6000 error_value = 89790274.67550832 Weight = [[13893.37572758]] Bias = [6871.78599794]\n",
      "step = 6400 error_value = 88695373.2286622 Weight = [[13844.06502679]] Bias = [7075.18680496]\n",
      "step = 6800 error_value = 87622958.21158105 Weight = [[13795.2632679]] Bias = [7276.48810442]\n",
      "step = 7200 error_value = 86572567.81087607 Weight = [[13746.96522762]] Bias = [7475.71157477]\n",
      "step = 7600 error_value = 85543749.6973463 Weight = [[13699.16571492]] Bias = [7672.87866548]\n",
      "step = 8000 error_value = 84536060.83532111 Weight = [[13651.85958661]] Bias = [7868.01060247]\n"
     ]
    }
   ],
   "source": [
    "#손실함수가 최소가 될때까지 W (weight), b (bias) 를 학습\n",
    "learning_rate = 1e-4\n",
    "\n",
    "f= lambda x: (loss_func(X_train, Y_train))   #f(x)=loss_func(X_train, Y_train)\n",
    "\n",
    "print('initial error value =', error_value(X_train, Y_train), 'initial W=', W, 'initial b=', b  )\n",
    "\n",
    "for step in range (8001):\n",
    "    W -= learning_rate* numerical_derivative(f,W)\n",
    "    b -= learning_rate* numerical_derivative(f,b)\n",
    "    \n",
    "    if step%400 ==0:\n",
    "        print ('step =', step, 'error_value =', error_value(X_train, Y_train), 'Weight =', W, 'Bias =', b)\n",
    "        \n"
   ]
  },
  {
   "cell_type": "code",
   "execution_count": 36,
   "metadata": {},
   "outputs": [
    {
     "name": "stdout",
     "output_type": "stream",
     "text": [
      "Weight = [[13651.85958661]] bias = [7868.01060247]\n"
     ]
    },
    {
     "data": {
      "image/png": "[encoded data removed]",
      "text/plain": [
       "<Figure size 432x288 with 1 Axes>"
      ]
     },
     "metadata": {
      "needs_background": "light"
     },
     "output_type": "display_data"
    }
   ],
   "source": [
    "# Visualising the Training set results\n",
    "# sklearn 안쓴 허접한 plotting 이긴 하지만 그래도 하긴했다..ㅎㅎ\n",
    "\n",
    "def result_function(x):\n",
    "    return W*x+b\n",
    "print('Weight =', W,'bias =', b)\n",
    "\n",
    "x_range = np.arange(0.0, 7.0)\n",
    "x_range =np.reshape(x_range,(7,1))\n",
    "\n",
    "\n",
    "plt.scatter(X_train, Y_train, color = 'red')\n",
    "\n",
    "plt.plot(x_range, result_function(x_range), color = 'blue')\n",
    "plt.title('Salary vs Experience  (Training Set)')\n",
    "plt.xlabel('Years of experience')\n",
    "plt.ylabel('Salary')\n",
    "plt.show()"
   ]
  },
  {
   "cell_type": "code",
   "execution_count": 37,
   "metadata": {},
   "outputs": [
    {
     "data": {
      "image/png": "[encoded data removed]",
      "text/plain": [
       "<Figure size 432x288 with 1 Axes>"
      ]
     },
     "metadata": {
      "needs_background": "light"
     },
     "output_type": "display_data"
    }
   ],
   "source": [
    "# Visualising the Test set results\n",
    "\n",
    "x_range = np.arange(6.0, 12.0)\n",
    "x_range =np.reshape(x_range,(6,1))\n",
    "\n",
    "plt.scatter(X_test, Y_test, color = 'red')\n",
    "plt.plot(x_range, result_function(x_range), color = 'blue')\n",
    "plt.title('Salary vs Experience  (Training Set)')\n",
    "plt.xlabel('Years of experience')\n",
    "plt.ylabel('Salary')\n",
    "plt.show()"
   ]
  },
  {
   "cell_type": "code",
   "execution_count": 15,
   "metadata": {},
   "outputs": [],
   "source": [
    "#느낀점.. data 를 x=1~6 을 train 데이터로 x=6~11 을 test 데이터로 하니까 fitting 이 잘 안된다.\n",
    "#더 많은 데이터로, 그리고 넓은 영역에서 random 하게 분포한 데이터를 학습시키는게 좋아보인다.."
   ]
  },
  {
   "cell_type": "code",
   "execution_count": null,
   "metadata": {},
   "outputs": [],
   "source": []
  }
 ],
 "metadata": {
  "kernelspec": {
   "display_name": "venv",
   "language": "python",
   "name": "venv"
  },
  "language_info": {
   "codemirror_mode": {
    "name": "ipython",
    "version": 3
   },
   "file_extension": ".py",
   "mimetype": "text/x-python",
   "name": "python",
   "nbconvert_exporter": "python",
   "pygments_lexer": "ipython3",
   "version": "3.7.4"
  }
 },
 "nbformat": 4,
 "nbformat_minor": 2
}
