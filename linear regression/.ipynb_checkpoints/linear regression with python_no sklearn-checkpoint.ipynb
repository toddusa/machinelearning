{
 "cells": [
  {
   "cell_type": "code",
   "execution_count": 184,
   "metadata": {},
   "outputs": [],
   "source": [
    "import numpy as np\n",
    "import matplotlib.pyplot as plt\n",
    "import pandas as pd\n",
    "#importing libraries\n",
    "\n",
    "# Pandas: Powerful data structures for data analysis, time series, and statistics. Home-page: http://pandas.pydata.org"
   ]
  },
  {
   "cell_type": "code",
   "execution_count": 259,
   "metadata": {},
   "outputs": [
    {
     "name": "stdout",
     "output_type": "stream",
     "text": [
      "(30, 1)\n",
      "(30, 1)\n"
     ]
    }
   ],
   "source": [
    "datasets = pd.read_csv('Salary_Data.csv')\n",
    "\n",
    "X = datasets.iloc[:, :-1].values\n",
    "Y = datasets.iloc[:, 1].values\n",
    "Y= np.reshape(Y,(30,1))\n",
    "\n",
    "print (X.shape)\n",
    "\n",
    "print (Z.shape)\n"
   ]
  },
  {
   "cell_type": "code",
   "execution_count": 260,
   "metadata": {},
   "outputs": [
    {
     "name": "stdout",
     "output_type": "stream",
     "text": [
      "(20, 1) (10, 1) (20, 1) (10, 1)\n"
     ]
    }
   ],
   "source": [
    "# Splitting the dataset into the Training set and Test set\n",
    "\n",
    "X_train = X[0:20]\n",
    "X_test = X[20:]\n",
    "Y_train = Y[0: 20]\n",
    "Y_test = Y[20:]\n",
    "print (X_train.shape, X_test.shape, Y_train.shape, Y_test.shape)\n"
   ]
  },
  {
   "cell_type": "code",
   "execution_count": 274,
   "metadata": {},
   "outputs": [
    {
     "name": "stdout",
     "output_type": "stream",
     "text": [
      "(1, 1) (1,)\n"
     ]
    }
   ],
   "source": [
    "# 임의의 1차함수 정의 y=Wx+b\n",
    "\n",
    "W= np.random.rand (1,1)\n",
    "b= np.random.rand (1)\n",
    "\n",
    "print(W.shape, b.shape)\n"
   ]
  },
  {
   "cell_type": "code",
   "execution_count": 262,
   "metadata": {},
   "outputs": [],
   "source": [
    "#손실함수 E(W,b) 정의 x=input값 t= input 의 정답값\n",
    "def loss_func(x,t):\n",
    "    y=np.dot(x,W)+b   #dot product\n",
    "    \n",
    "    return (np.sum((t-y)**2))/(len(x))\n",
    "    "
   ]
  },
  {
   "cell_type": "code",
   "execution_count": 263,
   "metadata": {},
   "outputs": [],
   "source": [
    "#f라는 함수를 x라는 변수에 관하여 편미분 하는 function. x는 numpy 객체이어야함\n",
    "\n",
    "def numerical_derivative(f,x):\n",
    "    delta_x= 1e-4\n",
    "    grad= np.zeros_like(x)\n",
    "        \n",
    "    #print ('debug 1. initial input variable =', x)\n",
    "    #print ('debug 2. initial grad =', grad)\n",
    "    #print ('====================================')\n",
    "        \n",
    "    it= np.nditer(x, flags=['multi_index'], op_flags=['readwrite'])  \n",
    "    \n",
    "    # np.nditer:  Efficient multi-dimensional iterator object to iterate over arrays.\n",
    "    # parameters ==================================================================================================\n",
    "    # flags : sequence of str, optional\n",
    "    # multi_index causes a multi-index, or a tuple of indices with one per iteration dimension, to be tracked.\n",
    "    # op_flags :list of list of str, optional\n",
    "    # readwrite indicates the operand will be read from and written to.\n",
    "    \n",
    "    \n",
    "    while not it.finished:\n",
    "        index= it.multi_index\n",
    "        \n",
    "        #print( 'debug 3. index =', index, 'x[index] =' , x[index])\n",
    "        \n",
    "        temp_val= x[index]\n",
    "                  \n",
    "        x[index]= float(temp_val) + delta_x    \n",
    "         \n",
    "        fx1= f(x)\n",
    "        \n",
    "        #print (f(x))\n",
    "                \n",
    "        x[index]= float(temp_val) - delta_x      \n",
    "        \n",
    "        fx2= f(x)\n",
    "        \n",
    "        #print(f(x))\n",
    "        #print (fx1-fx2)\n",
    "       \n",
    "        \n",
    "        grad[index]= (fx1-fx2)/(2*delta_x)\n",
    "        \n",
    "        #print ('debug 4. grad[index] =', grad[index])\n",
    "        #print ('debug 5. grad =', grad)\n",
    "        #print ('====================================')\n",
    "        \n",
    "        \n",
    "        x[index]=temp_val\n",
    "        \n",
    "        it.iternext()\n",
    "        \n",
    "    return grad\n",
    "        \n",
    "              \n",
    "        \n",
    "    "
   ]
  },
  {
   "cell_type": "code",
   "execution_count": 264,
   "metadata": {},
   "outputs": [
    {
     "data": {
      "text/plain": [
       "array([[ 5., 13.],\n",
       "       [32., 15.]])"
      ]
     },
     "execution_count": 264,
     "metadata": {},
     "output_type": "execute_result"
    }
   ],
   "source": [
    "# numerical_derivative 함수 예제\n",
    "\n",
    "def func1(input_obj):\n",
    "    \n",
    "    w=input_obj[0,0]\n",
    "    x=input_obj[0,1]\n",
    "    y=input_obj[1,0]\n",
    "    z=input_obj[1,1]\n",
    "    \n",
    "    return (w*x + x*y*z + 3*w + z* np.power(y,2))\n",
    "            \n",
    "input = np.array([[1.0,2.0], [3.0,4.0]])\n",
    "\n",
    "numerical_derivative(func1, input)\n"
   ]
  },
  {
   "cell_type": "code",
   "execution_count": 265,
   "metadata": {},
   "outputs": [
    {
     "data": {
      "text/plain": [
       "20"
      ]
     },
     "execution_count": 265,
     "metadata": {},
     "output_type": "execute_result"
    }
   ],
   "source": [
    "# 유틸리티 함수들\n",
    "\n",
    "def error_value(x,t):\n",
    "    y=np.dot(x,W)+b   #dot product\n",
    "    \n",
    "    return (np.sum((t-y)**2))/(len(x))\n",
    "\n",
    "\n",
    "#학습을 마친후 임의의 데이터에 대한 미래값 예측\n",
    "\n",
    "def predict(x):\n",
    "    predicted_value= np.dot(x,W)+b\n",
    "    \n",
    "    return predicted_value\n",
    "\n",
    "len(X_train)"
   ]
  },
  {
   "cell_type": "code",
   "execution_count": 275,
   "metadata": {},
   "outputs": [
    {
     "name": "stdout",
     "output_type": "stream",
     "text": [
      "initial error value = 3723757988.948723 initial W= [[0.12978386]] initial b= [0.06425752]\n",
      "step = 0 error_value = 3700938226.3258867 Weight = [[46.4472258]] Bias = [11.89174546]\n",
      "step = 400 error_value = 393025234.08300954 Weight = [[10511.10185575]] Bias = [2792.85483657]\n",
      "step = 800 error_value = 128953353.44741762 Weight = [[13419.5435434]] Bias = [3744.82994189]\n",
      "step = 1200 error_value = 106664037.02016675 Weight = [[14198.85973618]] Bias = [4179.61004696]\n",
      "step = 1600 error_value = 103603804.84235623 Weight = [[14378.54702441]] Bias = [4466.91204436]\n",
      "step = 2000 error_value = 102096837.92692867 Weight = [[14389.65487907]] Bias = [4710.94995469]\n",
      "step = 2400 error_value = 100739052.22095159 Weight = [[14353.66051847]] Bias = [4941.11167999]\n",
      "step = 2800 error_value = 99418501.77491574 Weight = [[14304.79531723]] Bias = [5165.69690488]\n",
      "step = 3200 error_value = 98125803.22392116 Weight = [[14252.70244016]] Bias = [5387.06190134]\n",
      "step = 3600 error_value = 96859708.23933783 Weight = [[14200.09546744]] Bias = [5605.88774744]\n",
      "step = 4000 error_value = 95619619.02761202 Weight = [[14147.73507763]] Bias = [5822.38323137]\n",
      "step = 4400 error_value = 94404998.05498576 Weight = [[14095.83160981]] Bias = [6036.62386242]\n",
      "step = 4800 error_value = 93215322.17386906 Weight = [[14044.44034414]] Bias = [6248.6474169]\n",
      "step = 5200 error_value = 92050079.12185806 Weight = [[13993.57290235]] Bias = [6458.48086582]\n",
      "step = 5600 error_value = 90908767.12555407 Weight = [[13943.22864304]] Bias = [6666.14796799]\n",
      "step = 6000 error_value = 89790894.70946613 Weight = [[13893.40350862]] Bias = [6871.67140872]\n",
      "step = 6400 error_value = 88695980.48570982 Weight = [[13844.09251918]] Bias = [7075.07340658]\n",
      "step = 6800 error_value = 87623552.95677476 Weight = [[13795.29047468]] Bias = [7276.37588415]\n",
      "step = 7200 error_value = 86573150.30107066 Weight = [[13746.99215183]] Bias = [7475.60052058]\n",
      "step = 7600 error_value = 85544320.18597516 Weight = [[13699.19235922]] Bias = [7672.76876501]\n",
      "step = 8000 error_value = 84536619.56832226 Weight = [[13651.88595418]] Bias = [7867.90184407]\n"
     ]
    }
   ],
   "source": [
    "#손실함수가 최소가 될때까지 W (weight), b (bias) 를 학습\n",
    "learning_rate = 1e-4\n",
    "\n",
    "f= lambda x: (loss_func(X_train, Y_train))   #f(x)=loss_func(X_train, Y_train)\n",
    "\n",
    "print('initial error value =', error_value(X_train, Y_train), 'initial W=', W, 'initial b=', b  )\n",
    "\n",
    "for step in range (8001):\n",
    "    W -= learning_rate* numerical_derivative(f,W)\n",
    "    b -= learning_rate* numerical_derivative(f,b)\n",
    "    \n",
    "    if step%400 ==0:\n",
    "        print ('step =', step, 'error_value =', error_value(X_train, Y_train), 'Weight =', W, 'Bias =', b)\n",
    "        \n"
   ]
  },
  {
   "cell_type": "code",
   "execution_count": 333,
   "metadata": {},
   "outputs": [
    {
     "name": "stdout",
     "output_type": "stream",
     "text": [
      "Weight = [[13651.88595418]] bias = [7867.90184407]\n"
     ]
    },
    {
     "data": {
      "image/png": "[encoded data removed]",
      "text/plain": [
       "<Figure size 432x288 with 1 Axes>"
      ]
     },
     "metadata": {
      "needs_background": "light"
     },
     "output_type": "display_data"
    }
   ],
   "source": [
    "# Visualising the Training set results\n",
    "# sklearn 안쓴 허접한 plotting 이긴 하지만 그래도 하긴했다..ㅎㅎ\n",
    "\n",
    "def result_function(x):\n",
    "    return W*x+b\n",
    "print('Weight =', W,'bias =', b)\n",
    "\n",
    "x_range = np.arange(0.0, 7.0)\n",
    "x_range =np.reshape(x_range,(7,1))\n",
    "\n",
    "\n",
    "plt.scatter(X_train, Y_train, color = 'red')\n",
    "\n",
    "plt.plot(x_range, result_function(x_range), color = 'blue')\n",
    "plt.title('Salary vs Experience  (Training Set)')\n",
    "plt.xlabel('Years of experience')\n",
    "plt.ylabel('Salary')\n",
    "plt.show()"
   ]
  },
  {
   "cell_type": "code",
   "execution_count": 335,
   "metadata": {},
   "outputs": [
    {
     "data": {
      "image/png": "[encoded data removed]",
      "text/plain": [
       "<Figure size 432x288 with 1 Axes>"
      ]
     },
     "metadata": {
      "needs_background": "light"
     },
     "output_type": "display_data"
    }
   ],
   "source": [
    "# Visualising the Test set results\n",
    "\n",
    "x_range = np.arange(6.0, 12.0)\n",
    "x_range =np.reshape(x_range,(6,1))\n",
    "\n",
    "plt.scatter(X_test, Y_test, color = 'red')\n",
    "plt.plot(x_range, result_function(x_range), color = 'blue')\n",
    "plt.title('Salary vs Experience  (Training Set)')\n",
    "plt.xlabel('Years of experience')\n",
    "plt.ylabel('Salary')\n",
    "plt.show()"
   ]
  },
  {
   "cell_type": "code",
   "execution_count": null,
   "metadata": {},
   "outputs": [],
   "source": [
    "#느낀점.. data 를 x=1~6 을 train 데이터로 x=6~11 을 test 데이터로 하니까 fitting 이 잘 안된다.\n",
    "#더 많은 데이터로, 그리고 넓은 영역에서 random 하게 분포한 데이터를 학습시키는게 좋아보인다.."
   ]
  }
 ],
 "metadata": {
  "kernelspec": {
   "display_name": "virEnvtesorflow",
   "language": "python",
   "name": "virenvtesorflow"
  },
  "language_info": {
   "codemirror_mode": {
    "name": "ipython",
    "version": 3
   },
   "file_extension": ".py",
   "mimetype": "text/x-python",
   "name": "python",
   "nbconvert_exporter": "python",
   "pygments_lexer": "ipython3",
   "version": "3.7.5"
  }
 },
 "nbformat": 4,
 "nbformat_minor": 2
}
